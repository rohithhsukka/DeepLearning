{
 "cells": [
  {
   "cell_type": "code",
   "execution_count": 1,
   "id": "c52cde61-86a7-4a45-8fd0-d1b16ceaafc4",
   "metadata": {},
   "outputs": [],
   "source": [
    "%matplotlib inline\n",
    "import numpy as np \n",
    "import pandas as pd \n",
    "import seaborn as sns\n",
    "sns.set()\n",
    "import matplotlib.pyplot as plt\n",
    "from scipy import optimize\n",
    "from ipywidgets import * \n",
    "from IPython.display import SVG\n",
    "from sklearn import datasets"
   ]
  },
  {
   "cell_type": "code",
   "execution_count": 18,
   "id": "261a52c9-2381-4401-8390-d95834b4b8c9",
   "metadata": {},
   "outputs": [
    {
     "data": {
      "text/html": [
       "<div>\n",
       "<style scoped>\n",
       "    .dataframe tbody tr th:only-of-type {\n",
       "        vertical-align: middle;\n",
       "    }\n",
       "\n",
       "    .dataframe tbody tr th {\n",
       "        vertical-align: top;\n",
       "    }\n",
       "\n",
       "    .dataframe thead th {\n",
       "        text-align: right;\n",
       "    }\n",
       "</style>\n",
       "<table border=\"1\" class=\"dataframe\">\n",
       "  <thead>\n",
       "    <tr style=\"text-align: right;\">\n",
       "      <th></th>\n",
       "      <th>x1</th>\n",
       "      <th>x2</th>\n",
       "      <th>y</th>\n",
       "    </tr>\n",
       "  </thead>\n",
       "  <tbody>\n",
       "    <tr>\n",
       "      <th>0</th>\n",
       "      <td>0</td>\n",
       "      <td>0</td>\n",
       "      <td>0</td>\n",
       "    </tr>\n",
       "    <tr>\n",
       "      <th>1</th>\n",
       "      <td>0</td>\n",
       "      <td>1</td>\n",
       "      <td>0</td>\n",
       "    </tr>\n",
       "    <tr>\n",
       "      <th>2</th>\n",
       "      <td>1</td>\n",
       "      <td>0</td>\n",
       "      <td>0</td>\n",
       "    </tr>\n",
       "    <tr>\n",
       "      <th>3</th>\n",
       "      <td>1</td>\n",
       "      <td>1</td>\n",
       "      <td>1</td>\n",
       "    </tr>\n",
       "  </tbody>\n",
       "</table>\n",
       "</div>"
      ],
      "text/plain": [
       "   x1  x2  y\n",
       "0   0   0  0\n",
       "1   0   1  0\n",
       "2   1   0  0\n",
       "3   1   1  1"
      ]
     },
     "execution_count": 18,
     "metadata": {},
     "output_type": "execute_result"
    }
   ],
   "source": [
    "AND = pd.DataFrame({'x1': (0,0,1,1), 'x2': (0,1,0,1), 'y': (0,0,0,1)})\n",
    "AND"
   ]
  },
  {
   "cell_type": "code",
   "execution_count": 19,
   "id": "453cd7f6-e6e6-4257-a4ab-8c845b53d0f5",
   "metadata": {},
   "outputs": [],
   "source": [
    "w = np.random.randn(3)*1e-4"
   ]
  },
  {
   "cell_type": "code",
   "execution_count": 20,
   "id": "387d56d1-5b41-4201-b24f-49be68936df1",
   "metadata": {},
   "outputs": [
    {
     "data": {
      "text/plain": [
       "array([ 9.78487689e-05, -7.47811325e-06, -2.01517248e-04])"
      ]
     },
     "execution_count": 20,
     "metadata": {},
     "output_type": "execute_result"
    }
   ],
   "source": [
    "w"
   ]
  },
  {
   "cell_type": "code",
   "execution_count": 21,
   "id": "e9339cf8-00d1-4124-b073-78c69e351481",
   "metadata": {},
   "outputs": [],
   "source": [
    "g = lambda inputs, weights: np.where(np.dot(inputs, weights)>0, 1, 0)"
   ]
  },
  {
   "cell_type": "code",
   "execution_count": 23,
   "id": "79177a9f-47fa-4fa5-8a0a-23c6a98d2962",
   "metadata": {},
   "outputs": [
    {
     "data": {
      "text/html": [
       "<div>\n",
       "<style scoped>\n",
       "    .dataframe tbody tr th:only-of-type {\n",
       "        vertical-align: middle;\n",
       "    }\n",
       "\n",
       "    .dataframe tbody tr th {\n",
       "        vertical-align: top;\n",
       "    }\n",
       "\n",
       "    .dataframe thead th {\n",
       "        text-align: right;\n",
       "    }\n",
       "</style>\n",
       "<table border=\"1\" class=\"dataframe\">\n",
       "  <thead>\n",
       "    <tr style=\"text-align: right;\">\n",
       "      <th></th>\n",
       "      <th>x1</th>\n",
       "      <th>x2</th>\n",
       "    </tr>\n",
       "  </thead>\n",
       "  <tbody>\n",
       "    <tr>\n",
       "      <th>0</th>\n",
       "      <td>0</td>\n",
       "      <td>0</td>\n",
       "    </tr>\n",
       "    <tr>\n",
       "      <th>1</th>\n",
       "      <td>0</td>\n",
       "      <td>1</td>\n",
       "    </tr>\n",
       "    <tr>\n",
       "      <th>2</th>\n",
       "      <td>1</td>\n",
       "      <td>0</td>\n",
       "    </tr>\n",
       "    <tr>\n",
       "      <th>3</th>\n",
       "      <td>1</td>\n",
       "      <td>1</td>\n",
       "    </tr>\n",
       "  </tbody>\n",
       "</table>\n",
       "</div>"
      ],
      "text/plain": [
       "   x1  x2\n",
       "0   0   0\n",
       "1   0   1\n",
       "2   1   0\n",
       "3   1   1"
      ]
     },
     "execution_count": 23,
     "metadata": {},
     "output_type": "execute_result"
    }
   ],
   "source": [
    "inputs = AND[['x1','x2']]\n",
    "inputs"
   ]
  },
  {
   "cell_type": "code",
   "execution_count": 24,
   "id": "b795f954-c618-42ca-b79f-f9808faff4f7",
   "metadata": {},
   "outputs": [
    {
     "data": {
      "text/plain": [
       "array([[-1.],\n",
       "       [-1.],\n",
       "       [-1.],\n",
       "       [-1.]])"
      ]
     },
     "execution_count": 24,
     "metadata": {},
     "output_type": "execute_result"
    }
   ],
   "source": [
    "-np.ones((len(inputs), 1))"
   ]
  },
  {
   "cell_type": "code",
   "execution_count": 25,
   "id": "7094e339-9d17-4458-82f7-7eaed774d3df",
   "metadata": {},
   "outputs": [
    {
     "data": {
      "text/plain": [
       "array([[ 0.,  0., -1.],\n",
       "       [ 0.,  1., -1.],\n",
       "       [ 1.,  0., -1.],\n",
       "       [ 1.,  1., -1.]])"
      ]
     },
     "execution_count": 25,
     "metadata": {},
     "output_type": "execute_result"
    }
   ],
   "source": [
    "a = np.c_[inputs, -np.ones((len(inputs), 1))]\n",
    "a"
   ]
  },
  {
   "cell_type": "code",
   "execution_count": 26,
   "id": "74965ae2-d7a9-4e3a-980c-ed2515a8fa1f",
   "metadata": {},
   "outputs": [
    {
     "data": {
      "text/plain": [
       "array([ 9.78487689e-05, -7.47811325e-06, -2.01517248e-04])"
      ]
     },
     "execution_count": 26,
     "metadata": {},
     "output_type": "execute_result"
    }
   ],
   "source": [
    "w"
   ]
  },
  {
   "cell_type": "code",
   "execution_count": 27,
   "id": "2b5881ae-dfb1-4089-8f39-3ae6f874190c",
   "metadata": {},
   "outputs": [
    {
     "data": {
      "text/plain": [
       "array([0.00020152, 0.00019404, 0.00029937, 0.00029189])"
      ]
     },
     "execution_count": 27,
     "metadata": {},
     "output_type": "execute_result"
    }
   ],
   "source": [
    "np.dot(a, w)"
   ]
  },
  {
   "cell_type": "code",
   "execution_count": 28,
   "id": "89eef3dc-fb75-4253-9ca3-678d42092648",
   "metadata": {},
   "outputs": [],
   "source": [
    "def train(inputs, targets, weights, eta, n_iterations):\n",
    "\n",
    "    # Add the inputs that match the bias node \n",
    "    inputs = np.c_[inputs, -np.ones((len(inputs), 1))]\n",
    "\n",
    "    for n in range(n_iterations):\n",
    "\n",
    "        activations = g(inputs, weights);\n",
    "        print(n, activations)\n",
    "        weights -= eta*np.dot(np.transpose(inputs), activations - targets)\n",
    "        print(n, weights)\n",
    "\n",
    "    return (weights)"
   ]
  },
  {
   "cell_type": "code",
   "execution_count": 29,
   "id": "0f8651ac-99fb-453a-b1da-4f9b0558e8de",
   "metadata": {},
   "outputs": [
    {
     "name": "stdout",
     "output_type": "stream",
     "text": [
      "0 [1 1 1 1]\n",
      "0 [-0.29990215 -0.30000748  0.89979848]\n",
      "1 [0 0 0 0]\n",
      "1 [ 9.78487689e-05 -7.47811325e-06  5.99798483e-01]\n",
      "2 [0 0 0 0]\n",
      "2 [0.30009785 0.29999252 0.29979848]\n",
      "3 [0 1 1 1]\n",
      "3 [ 9.78487689e-05 -7.47811325e-06  8.99798483e-01]\n",
      "4 [0 0 0 0]\n",
      "4 [0.30009785 0.29999252 0.59979848]\n",
      "5 [0 0 0 1]\n",
      "5 [0.30009785 0.29999252 0.59979848]\n",
      "6 [0 0 0 1]\n",
      "6 [0.30009785 0.29999252 0.59979848]\n",
      "7 [0 0 0 1]\n",
      "7 [0.30009785 0.29999252 0.59979848]\n",
      "8 [0 0 0 1]\n",
      "8 [0.30009785 0.29999252 0.59979848]\n",
      "9 [0 0 0 1]\n",
      "9 [0.30009785 0.29999252 0.59979848]\n",
      "10 [0 0 0 1]\n",
      "10 [0.30009785 0.29999252 0.59979848]\n",
      "11 [0 0 0 1]\n",
      "11 [0.30009785 0.29999252 0.59979848]\n",
      "12 [0 0 0 1]\n",
      "12 [0.30009785 0.29999252 0.59979848]\n",
      "13 [0 0 0 1]\n",
      "13 [0.30009785 0.29999252 0.59979848]\n",
      "14 [0 0 0 1]\n",
      "14 [0.30009785 0.29999252 0.59979848]\n",
      "15 [0 0 0 1]\n",
      "15 [0.30009785 0.29999252 0.59979848]\n",
      "16 [0 0 0 1]\n",
      "16 [0.30009785 0.29999252 0.59979848]\n",
      "17 [0 0 0 1]\n",
      "17 [0.30009785 0.29999252 0.59979848]\n",
      "18 [0 0 0 1]\n",
      "18 [0.30009785 0.29999252 0.59979848]\n",
      "19 [0 0 0 1]\n",
      "19 [0.30009785 0.29999252 0.59979848]\n"
     ]
    },
    {
     "data": {
      "text/plain": [
       "0    0\n",
       "1    0\n",
       "2    0\n",
       "3    1\n",
       "Name: y, dtype: int64"
      ]
     },
     "execution_count": 29,
     "metadata": {},
     "output_type": "execute_result"
    }
   ],
   "source": [
    "inputs = AND[['x1','x2']]\n",
    "target = AND['y']\n",
    "\n",
    "w = train(inputs, target, w, 0.3, 20)\n",
    "target"
   ]
  },
  {
   "cell_type": "code",
   "execution_count": 30,
   "id": "962c9448-5a63-4fbc-ae67-d4a27a82beeb",
   "metadata": {},
   "outputs": [
    {
     "data": {
      "text/plain": [
       "array([0, 0, 0, 1])"
      ]
     },
     "execution_count": 30,
     "metadata": {},
     "output_type": "execute_result"
    }
   ],
   "source": [
    "g(np.c_[inputs, -np.ones((len(inputs), 1))], w)"
   ]
  },
  {
   "cell_type": "code",
   "execution_count": 32,
   "id": "c89fafce-fa45-466f-9a98-b04cb3ff0264",
   "metadata": {},
   "outputs": [
    {
     "data": {
      "text/html": [
       "<div>\n",
       "<style scoped>\n",
       "    .dataframe tbody tr th:only-of-type {\n",
       "        vertical-align: middle;\n",
       "    }\n",
       "\n",
       "    .dataframe tbody tr th {\n",
       "        vertical-align: top;\n",
       "    }\n",
       "\n",
       "    .dataframe thead th {\n",
       "        text-align: right;\n",
       "    }\n",
       "</style>\n",
       "<table border=\"1\" class=\"dataframe\">\n",
       "  <thead>\n",
       "    <tr style=\"text-align: right;\">\n",
       "      <th></th>\n",
       "      <th>x1</th>\n",
       "      <th>x2</th>\n",
       "      <th>y</th>\n",
       "    </tr>\n",
       "  </thead>\n",
       "  <tbody>\n",
       "    <tr>\n",
       "      <th>0</th>\n",
       "      <td>0</td>\n",
       "      <td>0</td>\n",
       "      <td>0</td>\n",
       "    </tr>\n",
       "    <tr>\n",
       "      <th>1</th>\n",
       "      <td>0</td>\n",
       "      <td>1</td>\n",
       "      <td>1</td>\n",
       "    </tr>\n",
       "    <tr>\n",
       "      <th>2</th>\n",
       "      <td>1</td>\n",
       "      <td>0</td>\n",
       "      <td>1</td>\n",
       "    </tr>\n",
       "    <tr>\n",
       "      <th>3</th>\n",
       "      <td>1</td>\n",
       "      <td>1</td>\n",
       "      <td>1</td>\n",
       "    </tr>\n",
       "  </tbody>\n",
       "</table>\n",
       "</div>"
      ],
      "text/plain": [
       "   x1  x2  y\n",
       "0   0   0  0\n",
       "1   0   1  1\n",
       "2   1   0  1\n",
       "3   1   1  1"
      ]
     },
     "execution_count": 32,
     "metadata": {},
     "output_type": "execute_result"
    }
   ],
   "source": [
    "OR = pd.DataFrame({'x1': (0,0,1,1), 'x2': (0,1,0,1), 'y': (0,1,1,1)})\n",
    "OR"
   ]
  },
  {
   "cell_type": "code",
   "execution_count": 34,
   "id": "e9f15ecf-361b-4001-be86-536a9ac0020a",
   "metadata": {},
   "outputs": [],
   "source": [
    "w = np.random.randn(3)*1e-4"
   ]
  },
  {
   "cell_type": "code",
   "execution_count": 35,
   "id": "0d8baf49-eec3-4bb3-9d39-e98f2cd06855",
   "metadata": {},
   "outputs": [
    {
     "name": "stdout",
     "output_type": "stream",
     "text": [
      "0 [0 0 0 0]\n",
      "0 [ 0.49999026  0.49997691 -0.74981263]\n",
      "1 [1 1 1 1]\n",
      "1 [ 0.49999026  0.49997691 -0.49981263]\n",
      "2 [1 1 1 1]\n",
      "2 [ 0.49999026  0.49997691 -0.24981263]\n",
      "3 [1 1 1 1]\n",
      "3 [4.99990257e-01 4.99976910e-01 1.87372201e-04]\n",
      "4 [0 1 1 1]\n",
      "4 [4.99990257e-01 4.99976910e-01 1.87372201e-04]\n",
      "5 [0 1 1 1]\n",
      "5 [4.99990257e-01 4.99976910e-01 1.87372201e-04]\n",
      "6 [0 1 1 1]\n",
      "6 [4.99990257e-01 4.99976910e-01 1.87372201e-04]\n",
      "7 [0 1 1 1]\n",
      "7 [4.99990257e-01 4.99976910e-01 1.87372201e-04]\n",
      "8 [0 1 1 1]\n",
      "8 [4.99990257e-01 4.99976910e-01 1.87372201e-04]\n",
      "9 [0 1 1 1]\n",
      "9 [4.99990257e-01 4.99976910e-01 1.87372201e-04]\n",
      "10 [0 1 1 1]\n",
      "10 [4.99990257e-01 4.99976910e-01 1.87372201e-04]\n",
      "11 [0 1 1 1]\n",
      "11 [4.99990257e-01 4.99976910e-01 1.87372201e-04]\n",
      "12 [0 1 1 1]\n",
      "12 [4.99990257e-01 4.99976910e-01 1.87372201e-04]\n",
      "13 [0 1 1 1]\n",
      "13 [4.99990257e-01 4.99976910e-01 1.87372201e-04]\n",
      "14 [0 1 1 1]\n",
      "14 [4.99990257e-01 4.99976910e-01 1.87372201e-04]\n",
      "15 [0 1 1 1]\n",
      "15 [4.99990257e-01 4.99976910e-01 1.87372201e-04]\n",
      "16 [0 1 1 1]\n",
      "16 [4.99990257e-01 4.99976910e-01 1.87372201e-04]\n",
      "17 [0 1 1 1]\n",
      "17 [4.99990257e-01 4.99976910e-01 1.87372201e-04]\n",
      "18 [0 1 1 1]\n",
      "18 [4.99990257e-01 4.99976910e-01 1.87372201e-04]\n",
      "19 [0 1 1 1]\n",
      "19 [4.99990257e-01 4.99976910e-01 1.87372201e-04]\n"
     ]
    }
   ],
   "source": [
    "imputs = OR[['x1','x2']]\n",
    "target = OR['y']\n",
    "\n",
    "w = train(inputs, target, w, 0.25, 20)"
   ]
  },
  {
   "attachments": {
    "b51e9aad-f2ca-457b-977c-f0cc06caf9f3.png": {
     "image/png": "[encoded data removed]"
    }
   },
   "cell_type": "markdown",
   "id": "29331d71-4355-4f6e-bd6d-9c4ee8caa525",
   "metadata": {},
   "source": [
    "![image.png](attachment:b51e9aad-f2ca-457b-977c-f0cc06caf9f3.png)"
   ]
  },
  {
   "cell_type": "markdown",
   "id": "72fa65d6-1f62-4b42-be66-6e3f319ad3c7",
   "metadata": {},
   "source": [
    "new weight = older weight - eeta * (input * loss)\n",
    "\n",
    "eeta -> learning rate"
   ]
  },
  {
   "cell_type": "code",
   "execution_count": null,
   "id": "6f3df921-af0c-4364-bd8f-9d60bd24f521",
   "metadata": {},
   "outputs": [],
   "source": []
  }
 ],
 "metadata": {
  "kernelspec": {
   "display_name": "Python 3 (ipykernel)",
   "language": "python",
   "name": "python3"
  },
  "language_info": {
   "codemirror_mode": {
    "name": "ipython",
    "version": 3
   },
   "file_extension": ".py",
   "mimetype": "text/x-python",
   "name": "python",
   "nbconvert_exporter": "python",
   "pygments_lexer": "ipython3",
   "version": "3.12.3"
  }
 },
 "nbformat": 4,
 "nbformat_minor": 5
}
